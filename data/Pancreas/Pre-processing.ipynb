{
 "cells": [
  {
   "cell_type": "code",
   "execution_count": null,
   "metadata": {},
   "outputs": [],
   "source": [
    "import numpy as np\n",
    "from glob import glob\n",
    "from tqdm import tqdm\n",
    "import h5py\n",
    "import nrrd\n",
    "import nibabel as nib\n",
    "import pandas as pd\n",
    "import xlrd\n",
    "import pdb\n",
    "import SimpleITK as sitk\n",
    "from skimage import transform, measure\n",
    "import os\n",
    "import pydicom\n",
    "import matplotlib.pyplot as plt\n",
    "%matplotlib inline\n",
    "\n",
    "def load_scan(path):\n",
    "    temp = [pydicom.dcmread(path + f) for f in os.listdir(path)]\n",
    "    slices = [t for t in temp if t.Modality == 'CT']\n",
    "    slices.sort(key = lambda x: int(x.InstanceNumber))\n",
    "    try:\n",
    "        slice_thickness = np.abs(slices[0].ImagePositionPatient[2] - slices[1].ImagePositionPatient[2])\n",
    "    except:\n",
    "        slice_thickness = np.abs(slices[0].SliceLocation - slices[1].SliceLocation)      \n",
    "    for s in slices:\n",
    "        s.SliceThickness = slice_thickness        \n",
    "    return slices\n",
    "\n",
    "def get_pixels_hu(scans):\n",
    "    image = np.stack([s.pixel_array for s in scans]) \n",
    "    image = image.astype(np.float32)\n",
    "    # Convert to Hounsfield units (HU)\n",
    "    intercept = scans[0].RescaleIntercept\n",
    "    slope = scans[0].RescaleSlope\n",
    "    \n",
    "    if slope != 1:\n",
    "        image = slope * image.astype(np.float32)\n",
    "        image = image.astype(np.float32)\n",
    "        \n",
    "    image += np.float32(intercept)\n",
    "    \n",
    "    return np.array(image, dtype=np.float32)\n",
    "\n",
    "listt = glob('./Pancreas-CT/Pancreas-CT/*/*/Pancreas-*/')\n",
    "base_dir = \"./TCIA_pancreas_labels-02-05-2017/TCIA_pancreas_labels-02-05-2017/\"\n",
    "\n",
    "for item in tqdm(listt):\n",
    "    name = str(item)\n",
    "    name_id = name[35:39]\n",
    "    patient_ct = load_scan(name)\n",
    "    imgs_ct = get_pixels_hu(patient_ct)\n",
    "\n",
    "    itk_img = sitk.ReadImage(base_dir +'label'+ name_id + '.nii.gz')\n",
    "    origin = itk_img.GetOrigin()\n",
    "    direction = itk_img.GetDirection()\n",
    "    space = itk_img.GetSpacing()\n",
    "    label = sitk.GetArrayFromImage(itk_img)\n",
    "    \n",
    "\n",
    "    image_gz = sitk.GetImageFromArray(imgs_ct)\n",
    "    image_gz.SetOrigin(origin)\n",
    "    image_gz.SetDirection(direction)\n",
    "    image_gz.SetSpacing(space)\n",
    "    sitk.WriteImage(image_gz, \"./image\"+name_id+\".nii.gz\")\n",
    "#     plt.figure(figsize=(10, 10))\n",
    "#     plt.title('CT Slice_10')\n",
    "#     plt.imshow(imgs_ct[9],cmap='gray')\n",
    "#     plt.axis('off')\n",
    "#     plt.show()"
   ]
  },
  {
   "cell_type": "code",
   "execution_count": null,
   "metadata": {
    "ExecuteTime": {
     "start_time": "2021-07-08T07:22:32.650Z"
    }
   },
   "outputs": [
    {
     "name": "stderr",
     "output_type": "stream",
     "text": [
      "\r",
      "  0%|                                                    | 0/82 [00:00<?, ?it/s]"
     ]
    },
    {
     "name": "stdout",
     "output_type": "stream",
     "text": [
      "[512 512 310]\n",
      "[360, 360, 310]\n",
      "[0.703125 0.703125 1.      ]\n",
      "[1.0, 1.0, 1.0]\n",
      "(360, 360, 310)\n",
      "(168, 146, 310)\n"
     ]
    },
    {
     "name": "stderr",
     "output_type": "stream",
     "text": [
      "\r",
      "  1%|▌                                           | 1/82 [00:10<13:46, 10.20s/it]"
     ]
    },
    {
     "name": "stdout",
     "output_type": "stream",
     "text": [
      "[512 512 203]\n",
      "[400, 400, 203]\n",
      "[0.78200001 0.78200001 1.        ]\n",
      "[1.0, 1.0, 1.0]\n",
      "(400, 400, 203)\n",
      "(164, 145, 203)\n"
     ]
    },
    {
     "name": "stderr",
     "output_type": "stream",
     "text": [
      "\r",
      "  2%|█                                           | 2/82 [00:17<11:09,  8.36s/it]"
     ]
    },
    {
     "name": "stdout",
     "output_type": "stream",
     "text": [
      "[512 512 206]\n",
      "[460, 460, 206]\n",
      "[0.8984375 0.8984375 1.       ]\n",
      "[1.0, 1.0, 1.0]\n",
      "(460, 460, 206)\n",
      "(168, 146, 206)\n"
     ]
    },
    {
     "name": "stderr",
     "output_type": "stream",
     "text": [
      "\r",
      "  4%|█▌                                          | 3/82 [00:24<10:37,  8.07s/it]"
     ]
    },
    {
     "name": "stdout",
     "output_type": "stream",
     "text": [
      "[512 512 210]\n",
      "[460, 460, 210]\n",
      "[0.8984375 0.8984375 1.       ]\n",
      "[1.0, 1.0, 1.0]\n",
      "(460, 460, 210)\n",
      "(170, 146, 210)\n"
     ]
    },
    {
     "name": "stderr",
     "output_type": "stream",
     "text": [
      "\r",
      "  5%|██▏                                         | 4/82 [00:32<10:22,  7.97s/it]"
     ]
    },
    {
     "name": "stdout",
     "output_type": "stream",
     "text": [
      "[512 512 221]\n",
      "[460, 460, 221]\n",
      "[0.8984375 0.8984375 1.       ]\n",
      "[1.0, 1.0, 1.0]\n",
      "(460, 460, 221)\n",
      "(212, 146, 221)\n"
     ]
    },
    {
     "name": "stderr",
     "output_type": "stream",
     "text": [
      "\r",
      "  6%|██▋                                         | 5/82 [00:41<10:31,  8.20s/it]"
     ]
    },
    {
     "name": "stdout",
     "output_type": "stream",
     "text": [
      "[512 512 226]\n",
      "[480, 480, 226]\n",
      "[0.9375 0.9375 1.    ]\n",
      "[1.0, 1.0, 1.0]\n",
      "(480, 480, 226)\n",
      "(210, 145, 226)\n"
     ]
    },
    {
     "name": "stderr",
     "output_type": "stream",
     "text": [
      "\r",
      "  7%|███▏                                        | 6/82 [00:50<10:49,  8.54s/it]"
     ]
    },
    {
     "name": "stdout",
     "output_type": "stream",
     "text": [
      "[512 512 201]\n",
      "[420, 420, 201]\n",
      "[0.8203125 0.8203125 1.       ]\n",
      "[1.0, 1.0, 1.0]\n",
      "(420, 420, 201)\n",
      "(175, 145, 201)\n"
     ]
    },
    {
     "name": "stderr",
     "output_type": "stream",
     "text": [
      "\r",
      "  9%|███▊                                        | 7/82 [00:57<10:07,  8.10s/it]"
     ]
    },
    {
     "name": "stdout",
     "output_type": "stream",
     "text": [
      "[512 512 251]\n",
      "[400, 400, 251]\n",
      "[0.78125 0.78125 1.     ]\n",
      "[1.0, 1.0, 1.0]\n",
      "(400, 400, 251)\n",
      "(146, 145, 251)\n"
     ]
    },
    {
     "name": "stderr",
     "output_type": "stream",
     "text": [
      "\r",
      " 10%|████▎                                       | 8/82 [01:06<10:18,  8.36s/it]"
     ]
    },
    {
     "name": "stdout",
     "output_type": "stream",
     "text": [
      "[512 512 251]\n",
      "[500, 500, 251]\n",
      "[0.9765625 0.9765625 1.       ]\n",
      "[1.0, 1.0, 1.0]\n",
      "(500, 500, 251)\n",
      "(213, 145, 251)\n"
     ]
    },
    {
     "name": "stderr",
     "output_type": "stream",
     "text": [
      "\r",
      " 11%|████▊                                       | 9/82 [01:17<11:01,  9.06s/it]"
     ]
    },
    {
     "name": "stdout",
     "output_type": "stream",
     "text": [
      "[512 512 185]\n",
      "[360, 360, 185]\n",
      "[0.703125 0.703125 1.      ]\n",
      "[1.0, 1.0, 1.0]\n",
      "(360, 360, 185)\n",
      "(179, 145, 185)\n"
     ]
    },
    {
     "name": "stderr",
     "output_type": "stream",
     "text": [
      "\r",
      " 12%|█████▏                                     | 10/82 [01:23<09:47,  8.16s/it]"
     ]
    },
    {
     "name": "stdout",
     "output_type": "stream",
     "text": [
      "[512 512 223]\n",
      "[420, 420, 223]\n",
      "[0.8203125 0.8203125 1.       ]\n",
      "[1.0, 1.0, 1.0]\n",
      "(420, 420, 223)\n",
      "(174, 145, 223)\n"
     ]
    },
    {
     "name": "stderr",
     "output_type": "stream",
     "text": [
      "\r",
      " 13%|█████▊                                     | 11/82 [01:31<09:36,  8.12s/it]"
     ]
    },
    {
     "name": "stdout",
     "output_type": "stream",
     "text": [
      "[512 512 310]\n",
      "[380, 380, 310]\n",
      "[0.74218798 0.74218798 1.        ]\n",
      "[1.0, 1.0, 1.0]\n",
      "(380, 380, 310)\n",
      "(182, 146, 310)\n"
     ]
    },
    {
     "name": "stderr",
     "output_type": "stream",
     "text": [
      "\r",
      " 15%|██████▎                                    | 12/82 [01:42<10:20,  8.87s/it]"
     ]
    },
    {
     "name": "stdout",
     "output_type": "stream",
     "text": [
      "[512 512 228]\n",
      "[500, 500, 228]\n",
      "[0.9765625 0.9765625 1.       ]\n",
      "[1.0, 1.0, 1.0]\n",
      "(500, 500, 228)\n",
      "(201, 145, 228)\n"
     ]
    },
    {
     "name": "stderr",
     "output_type": "stream",
     "text": [
      "\r",
      " 16%|██████▊                                    | 13/82 [01:51<10:17,  8.95s/it]"
     ]
    },
    {
     "name": "stdout",
     "output_type": "stream",
     "text": [
      "[512 512 221]\n",
      "[462, 462, 221]\n",
      "[0.90234375 0.90234375 1.        ]\n",
      "[1.0, 1.0, 1.0]\n",
      "(462, 462, 221)\n",
      "(164, 146, 221)\n"
     ]
    },
    {
     "name": "stderr",
     "output_type": "stream",
     "text": [
      "\r",
      " 17%|███████▎                                   | 14/82 [01:59<09:58,  8.80s/it]"
     ]
    },
    {
     "name": "stdout",
     "output_type": "stream",
     "text": [
      "[512 512 221]\n",
      "[500, 500, 221]\n",
      "[0.9765625 0.9765625 1.       ]\n",
      "[1.0, 1.0, 1.0]\n",
      "(500, 500, 221)\n",
      "(151, 145, 221)\n"
     ]
    },
    {
     "name": "stderr",
     "output_type": "stream",
     "text": [
      "\r",
      " 18%|███████▊                                   | 15/82 [02:08<09:47,  8.77s/it]"
     ]
    },
    {
     "name": "stdout",
     "output_type": "stream",
     "text": [
      "[512 512 199]\n",
      "[439, 439, 199]\n",
      "[0.85799998 0.85799998 1.        ]\n",
      "[1.0, 1.0, 1.0]\n",
      "(439, 439, 199)\n",
      "(211, 146, 199)\n"
     ]
    },
    {
     "name": "stderr",
     "output_type": "stream",
     "text": [
      "\r",
      " 20%|████████▍                                  | 16/82 [02:15<09:02,  8.22s/it]"
     ]
    },
    {
     "name": "stdout",
     "output_type": "stream",
     "text": [
      "[512 512 227]\n",
      "[440, 440, 227]\n",
      "[0.859375 0.859375 1.      ]\n",
      "[1.0, 1.0, 1.0]\n",
      "(440, 440, 227)\n",
      "(188, 146, 227)\n"
     ]
    },
    {
     "name": "stderr",
     "output_type": "stream",
     "text": [
      "\r",
      " 21%|████████▉                                  | 17/82 [02:23<09:00,  8.32s/it]"
     ]
    },
    {
     "name": "stdout",
     "output_type": "stream",
     "text": [
      "[512 512 187]\n",
      "[380, 380, 187]\n",
      "[0.7421875 0.7421875 1.       ]\n",
      "[1.0, 1.0, 1.0]\n",
      "(380, 380, 187)\n",
      "(192, 145, 187)\n"
     ]
    },
    {
     "name": "stderr",
     "output_type": "stream",
     "text": [
      "\r",
      " 22%|█████████▍                                 | 18/82 [02:29<08:01,  7.53s/it]"
     ]
    },
    {
     "name": "stdout",
     "output_type": "stream",
     "text": [
      "[512 512 214]\n",
      "[500, 500, 214]\n",
      "[0.9765625 0.9765625 1.       ]\n",
      "[1.0, 1.0, 1.0]\n",
      "(500, 500, 214)\n",
      "(188, 157, 214)\n"
     ]
    },
    {
     "name": "stderr",
     "output_type": "stream",
     "text": [
      "\r",
      " 23%|█████████▉                                 | 19/82 [02:38<08:19,  7.92s/it]"
     ]
    },
    {
     "name": "stdout",
     "output_type": "stream",
     "text": [
      "[512 512 209]\n",
      "[440, 440, 209]\n",
      "[0.859375 0.859375 1.      ]\n",
      "[1.0, 1.0, 1.0]\n",
      "(440, 440, 209)\n",
      "(191, 146, 209)\n"
     ]
    },
    {
     "name": "stderr",
     "output_type": "stream",
     "text": [
      "\r",
      " 24%|██████████▍                                | 20/82 [02:46<08:11,  7.93s/it]"
     ]
    },
    {
     "name": "stdout",
     "output_type": "stream",
     "text": [
      "[512 512 206]\n",
      "[475, 475, 206]\n",
      "[0.92773438 0.92773438 1.        ]\n",
      "[1.0, 1.0, 1.0]\n",
      "(475, 475, 206)\n",
      "(202, 146, 206)\n"
     ]
    },
    {
     "name": "stderr",
     "output_type": "stream",
     "text": [
      "\r",
      " 26%|███████████                                | 21/82 [02:54<08:10,  8.05s/it]"
     ]
    },
    {
     "name": "stdout",
     "output_type": "stream",
     "text": [
      "[512 512 216]\n",
      "[500, 500, 216]\n",
      "[0.9765625 0.9765625 1.       ]\n",
      "[1.0, 1.0, 1.0]\n",
      "(500, 500, 216)\n",
      "(177, 145, 216)\n"
     ]
    },
    {
     "name": "stderr",
     "output_type": "stream",
     "text": [
      "\r",
      " 27%|███████████▌                               | 22/82 [03:03<08:15,  8.26s/it]"
     ]
    },
    {
     "name": "stdout",
     "output_type": "stream",
     "text": [
      "[512 512 213]\n",
      "[460, 460, 213]\n",
      "[0.8984375 0.8984375 1.       ]\n",
      "[1.0, 1.0, 1.0]\n",
      "(460, 460, 213)\n",
      "(156, 145, 213)\n"
     ]
    },
    {
     "name": "stderr",
     "output_type": "stream",
     "text": [
      "\r",
      " 28%|████████████                               | 23/82 [03:11<08:03,  8.19s/it]"
     ]
    },
    {
     "name": "stdout",
     "output_type": "stream",
     "text": [
      "[512 512 222]\n",
      "[460, 460, 222]\n",
      "[0.8984375 0.8984375 1.       ]\n",
      "[1.0, 1.0, 1.0]\n",
      "(460, 460, 222)\n",
      "(163, 146, 222)\n"
     ]
    },
    {
     "name": "stderr",
     "output_type": "stream",
     "text": [
      "\r",
      " 29%|████████████▌                              | 24/82 [03:19<08:00,  8.29s/it]"
     ]
    },
    {
     "name": "stdout",
     "output_type": "stream",
     "text": [
      "[512 512 198]\n",
      "[380, 380, 198]\n",
      "[0.7421875 0.7421875 1.       ]\n",
      "[1.0, 1.0, 1.0]\n",
      "(380, 380, 198)\n",
      "(194, 145, 198)\n"
     ]
    },
    {
     "name": "stderr",
     "output_type": "stream",
     "text": [
      "\r",
      " 30%|█████████████                              | 25/82 [03:26<07:27,  7.85s/it]"
     ]
    },
    {
     "name": "stdout",
     "output_type": "stream",
     "text": [
      "[512 512 211]\n",
      "[481, 481, 211]\n",
      "[0.93945312 0.93945312 1.        ]\n",
      "[1.0, 1.0, 1.0]\n",
      "(481, 481, 211)\n",
      "(175, 159, 211)\n"
     ]
    },
    {
     "name": "stderr",
     "output_type": "stream",
     "text": [
      "\r",
      " 32%|█████████████▋                             | 26/82 [03:35<07:27,  8.00s/it]"
     ]
    },
    {
     "name": "stdout",
     "output_type": "stream",
     "text": [
      "[512 512 198]\n",
      "[400, 400, 198]\n",
      "[0.78200001 0.78200001 1.        ]\n",
      "[1.0, 1.0, 1.0]\n",
      "(400, 400, 198)\n",
      "(171, 145, 198)\n"
     ]
    },
    {
     "name": "stderr",
     "output_type": "stream",
     "text": [
      "\r",
      " 33%|██████████████▏                            | 27/82 [03:42<07:02,  7.69s/it]"
     ]
    },
    {
     "name": "stdout",
     "output_type": "stream",
     "text": [
      "[512 512 205]\n",
      "[400, 400, 205]\n",
      "[0.78200001 0.78200001 1.        ]\n",
      "[1.0, 1.0, 1.0]\n",
      "(400, 400, 205)\n",
      "(198, 145, 205)\n"
     ]
    },
    {
     "name": "stderr",
     "output_type": "stream",
     "text": [
      "\r",
      " 34%|██████████████▋                            | 28/82 [03:49<06:49,  7.59s/it]"
     ]
    },
    {
     "name": "stdout",
     "output_type": "stream",
     "text": [
      "[512 512 201]\n",
      "[460, 460, 201]\n",
      "[0.8984375 0.8984375 1.       ]\n",
      "[1.0, 1.0, 1.0]\n",
      "(460, 460, 201)\n",
      "(201, 145, 201)\n"
     ]
    },
    {
     "name": "stderr",
     "output_type": "stream",
     "text": [
      "\r",
      " 35%|███████████████▏                           | 29/82 [03:57<06:47,  7.70s/it]"
     ]
    },
    {
     "name": "stdout",
     "output_type": "stream",
     "text": [
      "[512 512 199]\n",
      "[400, 400, 199]\n",
      "[0.78125 0.78125 1.     ]\n",
      "[1.0, 1.0, 1.0]\n",
      "(400, 400, 199)\n",
      "(160, 145, 199)\n"
     ]
    },
    {
     "name": "stderr",
     "output_type": "stream",
     "text": [
      "\r",
      " 37%|███████████████▋                           | 30/82 [04:04<06:31,  7.53s/it]"
     ]
    },
    {
     "name": "stdout",
     "output_type": "stream",
     "text": [
      "[512 512 310]\n",
      "[400, 400, 310]\n",
      "[0.78125 0.78125 1.     ]\n",
      "[1.0, 1.0, 1.0]\n",
      "(400, 400, 310)\n",
      "(210, 145, 310)\n"
     ]
    },
    {
     "name": "stderr",
     "output_type": "stream",
     "text": [
      "\r",
      " 38%|████████████████▎                          | 31/82 [04:15<07:22,  8.67s/it]"
     ]
    },
    {
     "name": "stdout",
     "output_type": "stream",
     "text": [
      "[512 512 218]\n",
      "[440, 440, 218]\n",
      "[0.859375 0.859375 1.      ]\n",
      "[1.0, 1.0, 1.0]\n",
      "(440, 440, 218)\n",
      "(183, 146, 218)\n"
     ]
    },
    {
     "name": "stderr",
     "output_type": "stream",
     "text": [
      "\r",
      " 39%|████████████████▊                          | 32/82 [04:24<07:09,  8.59s/it]"
     ]
    },
    {
     "name": "stdout",
     "output_type": "stream",
     "text": [
      "[512 512 310]\n",
      "[400, 400, 310]\n",
      "[0.78125    0.78125    1.00000012]\n",
      "[1.0, 1.0, 1.0]\n",
      "(400, 400, 310)\n",
      "(179, 145, 310)\n"
     ]
    },
    {
     "name": "stderr",
     "output_type": "stream",
     "text": [
      "\r",
      " 40%|█████████████████▎                         | 33/82 [04:35<07:38,  9.35s/it]"
     ]
    },
    {
     "name": "stdout",
     "output_type": "stream",
     "text": [
      "[512 512 466]\n",
      "[485, 485, 233]\n",
      "[0.94726562 0.94726562 0.5       ]\n",
      "[1.0, 1.0, 1.0]\n",
      "(485, 485, 233)\n",
      "(204, 146, 233)\n"
     ]
    },
    {
     "name": "stderr",
     "output_type": "stream",
     "text": [
      "\r",
      " 41%|█████████████████▊                         | 34/82 [04:51<09:10, 11.47s/it]"
     ]
    },
    {
     "name": "stdout",
     "output_type": "stream",
     "text": [
      "[512 512 310]\n",
      "[400, 400, 310]\n",
      "[0.78125 0.78125 1.     ]\n",
      "[1.0, 1.0, 1.0]\n",
      "(400, 400, 310)\n",
      "(178, 145, 310)\n"
     ]
    },
    {
     "name": "stderr",
     "output_type": "stream",
     "text": [
      "\r",
      " 43%|██████████████████▎                        | 35/82 [05:03<09:00, 11.51s/it]"
     ]
    },
    {
     "name": "stdout",
     "output_type": "stream",
     "text": [
      "[512 512 231]\n",
      "[480, 480, 231]\n",
      "[0.9375 0.9375 1.    ]\n",
      "[1.0, 1.0, 1.0]\n",
      "(480, 480, 231)\n",
      "(153, 146, 231)\n"
     ]
    },
    {
     "name": "stderr",
     "output_type": "stream",
     "text": [
      "\r",
      " 44%|██████████████████▉                        | 36/82 [05:12<08:21, 10.91s/it]"
     ]
    },
    {
     "name": "stdout",
     "output_type": "stream",
     "text": [
      "[512 512 216]\n",
      "[340, 340, 216]\n",
      "[0.6640625 0.6640625 1.       ]\n",
      "[1.0, 1.0, 1.0]\n",
      "(340, 340, 216)\n",
      "(146, 146, 216)\n"
     ]
    },
    {
     "name": "stderr",
     "output_type": "stream",
     "text": [
      "\r",
      " 45%|███████████████████▍                       | 37/82 [05:20<07:20,  9.79s/it]"
     ]
    },
    {
     "name": "stdout",
     "output_type": "stream",
     "text": [
      "[512 512 310]\n",
      "[350, 350, 310]\n",
      "[0.68359375 0.68359375 1.        ]\n",
      "[1.0, 1.0, 1.0]\n",
      "(350, 350, 310)\n",
      "(166, 145, 310)\n"
     ]
    },
    {
     "name": "stderr",
     "output_type": "stream",
     "text": [
      "\r",
      " 46%|███████████████████▉                       | 38/82 [05:30<07:15,  9.90s/it]"
     ]
    },
    {
     "name": "stdout",
     "output_type": "stream",
     "text": [
      "[512 512 240]\n",
      "[440, 440, 240]\n",
      "[0.859375 0.859375 1.      ]\n",
      "[1.0, 1.0, 1.0]\n",
      "(440, 440, 240)\n",
      "(188, 145, 240)\n"
     ]
    },
    {
     "name": "stderr",
     "output_type": "stream",
     "text": [
      "\r",
      " 48%|████████████████████▍                      | 39/82 [05:39<06:57,  9.71s/it]"
     ]
    },
    {
     "name": "stdout",
     "output_type": "stream",
     "text": [
      "[512 512 210]\n",
      "[439, 439, 210]\n",
      "[0.85799998 0.85799998 1.        ]\n",
      "[1.0, 1.0, 1.0]\n",
      "(439, 439, 210)\n",
      "(181, 145, 210)\n"
     ]
    },
    {
     "name": "stderr",
     "output_type": "stream",
     "text": [
      "\r",
      " 49%|████████████████████▉                      | 40/82 [05:47<06:28,  9.26s/it]"
     ]
    },
    {
     "name": "stdout",
     "output_type": "stream",
     "text": [
      "[512 512 203]\n",
      "[481, 481, 203]\n",
      "[0.93945312 0.93945312 1.        ]\n",
      "[1.0, 1.0, 1.0]\n",
      "(481, 481, 203)\n",
      "(190, 146, 203)\n"
     ]
    },
    {
     "name": "stderr",
     "output_type": "stream",
     "text": [
      "\r",
      " 50%|█████████████████████▌                     | 41/82 [05:56<06:09,  9.00s/it]"
     ]
    },
    {
     "name": "stdout",
     "output_type": "stream",
     "text": [
      "[512 512 237]\n",
      "[480, 480, 237]\n",
      "[0.9375 0.9375 1.    ]\n",
      "[1.0, 1.0, 1.0]\n",
      "(480, 480, 237)\n",
      "(224, 145, 237)\n"
     ]
    },
    {
     "name": "stderr",
     "output_type": "stream",
     "text": [
      "\r",
      " 51%|██████████████████████                     | 42/82 [06:06<06:17,  9.44s/it]"
     ]
    },
    {
     "name": "stdout",
     "output_type": "stream",
     "text": [
      "[512 512 195]\n",
      "[460, 460, 195]\n",
      "[0.8984375 0.8984375 1.       ]\n",
      "[1.0, 1.0, 1.0]\n",
      "(460, 460, 195)\n",
      "(225, 146, 195)\n"
     ]
    },
    {
     "name": "stderr",
     "output_type": "stream",
     "text": [
      "\r",
      " 52%|██████████████████████▌                    | 43/82 [06:14<05:54,  9.10s/it]"
     ]
    },
    {
     "name": "stdout",
     "output_type": "stream",
     "text": [
      "[512 512 223]\n",
      "[490, 490, 223]\n",
      "[0.95703125 0.95703125 1.        ]\n",
      "[1.0, 1.0, 1.0]\n",
      "(490, 490, 223)\n",
      "(217, 146, 223)\n"
     ]
    },
    {
     "name": "stderr",
     "output_type": "stream",
     "text": [
      "\r",
      " 54%|███████████████████████                    | 44/82 [06:24<05:52,  9.28s/it]"
     ]
    },
    {
     "name": "stdout",
     "output_type": "stream",
     "text": [
      "[512 512 310]\n",
      "[380, 380, 310]\n",
      "[0.7421875  0.7421875  1.00000012]\n",
      "[1.0, 1.0, 1.0]\n",
      "(380, 380, 310)\n",
      "(146, 151, 310)\n"
     ]
    },
    {
     "name": "stderr",
     "output_type": "stream",
     "text": [
      "\r",
      " 55%|███████████████████████▌                   | 45/82 [06:35<06:01,  9.77s/it]"
     ]
    },
    {
     "name": "stdout",
     "output_type": "stream",
     "text": [
      "[512 512 310]\n",
      "[380, 380, 310]\n",
      "[0.7421875 0.7421875 1.       ]\n",
      "[1.0, 1.0, 1.0]\n",
      "(380, 380, 310)\n",
      "(155, 146, 310)\n"
     ]
    },
    {
     "name": "stderr",
     "output_type": "stream",
     "text": [
      "\r",
      " 56%|████████████████████████                   | 46/82 [06:46<06:00, 10.01s/it]"
     ]
    },
    {
     "name": "stdout",
     "output_type": "stream",
     "text": [
      "[512 512 181]\n",
      "[500, 500, 181]\n",
      "[0.9765625 0.9765625 1.       ]\n",
      "[1.0, 1.0, 1.0]\n",
      "(500, 500, 181)\n",
      "(169, 146, 181)\n"
     ]
    },
    {
     "name": "stderr",
     "output_type": "stream",
     "text": [
      "\r",
      " 57%|████████████████████████▋                  | 47/82 [06:53<05:23,  9.24s/it]"
     ]
    },
    {
     "name": "stdout",
     "output_type": "stream",
     "text": [
      "[512 512 186]\n",
      "[380, 380, 186]\n",
      "[0.7421875 0.7421875 1.       ]\n",
      "[1.0, 1.0, 1.0]\n",
      "(380, 380, 186)\n",
      "(163, 146, 186)\n"
     ]
    },
    {
     "name": "stderr",
     "output_type": "stream",
     "text": [
      "\r",
      " 59%|█████████████████████████▏                 | 48/82 [07:00<04:46,  8.42s/it]"
     ]
    },
    {
     "name": "stdout",
     "output_type": "stream",
     "text": [
      "[512 512 223]\n",
      "[480, 480, 223]\n",
      "[0.9375 0.9375 1.    ]\n",
      "[1.0, 1.0, 1.0]\n",
      "(480, 480, 223)\n",
      "(175, 146, 223)\n"
     ]
    },
    {
     "name": "stderr",
     "output_type": "stream",
     "text": [
      "\r",
      " 60%|█████████████████████████▋                 | 49/82 [07:09<04:43,  8.60s/it]"
     ]
    },
    {
     "name": "stdout",
     "output_type": "stream",
     "text": [
      "[512 512 310]\n",
      "[340, 340, 310]\n",
      "[0.6640625 0.6640625 1.       ]\n",
      "[1.0, 1.0, 1.0]\n",
      "(340, 340, 310)\n",
      "(183, 145, 310)\n"
     ]
    },
    {
     "name": "stderr",
     "output_type": "stream",
     "text": [
      "\r",
      " 61%|██████████████████████████▏                | 50/82 [07:19<04:50,  9.09s/it]"
     ]
    },
    {
     "name": "stdout",
     "output_type": "stream",
     "text": [
      "[512 512 205]\n",
      "[419, 419, 205]\n",
      "[0.81999999 0.81999999 1.        ]\n",
      "[1.0, 1.0, 1.0]\n",
      "(419, 419, 205)\n",
      "(216, 145, 205)\n"
     ]
    },
    {
     "name": "stderr",
     "output_type": "stream",
     "text": [
      "\r",
      " 62%|██████████████████████████▋                | 51/82 [07:26<04:28,  8.67s/it]"
     ]
    },
    {
     "name": "stdout",
     "output_type": "stream",
     "text": [
      "[512 512 310]\n",
      "[470, 470, 310]\n",
      "[0.91796875 0.91796875 1.        ]\n",
      "[1.0, 1.0, 1.0]\n",
      "(470, 470, 310)\n",
      "(205, 146, 310)\n"
     ]
    },
    {
     "name": "stderr",
     "output_type": "stream",
     "text": [
      "\r",
      " 63%|███████████████████████████▎               | 52/82 [07:39<04:55,  9.86s/it]"
     ]
    },
    {
     "name": "stdout",
     "output_type": "stream",
     "text": [
      "[512 512 201]\n",
      "[480, 480, 201]\n",
      "[0.9375 0.9375 1.    ]\n",
      "[1.0, 1.0, 1.0]\n",
      "(480, 480, 201)\n",
      "(199, 146, 201)\n"
     ]
    },
    {
     "name": "stderr",
     "output_type": "stream",
     "text": [
      "\r",
      " 65%|███████████████████████████▊               | 53/82 [07:48<04:35,  9.49s/it]"
     ]
    },
    {
     "name": "stdout",
     "output_type": "stream",
     "text": [
      "[512 512 209]\n",
      "[500, 500, 209]\n",
      "[0.9765625 0.9765625 1.       ]\n",
      "[1.0, 1.0, 1.0]\n",
      "(500, 500, 209)\n",
      "(145, 158, 209)\n"
     ]
    },
    {
     "name": "stderr",
     "output_type": "stream",
     "text": [
      "\r",
      " 66%|████████████████████████████▎              | 54/82 [07:56<04:19,  9.26s/it]"
     ]
    },
    {
     "name": "stdout",
     "output_type": "stream",
     "text": [
      "[512 512 247]\n",
      "[400, 400, 247]\n",
      "[0.78125 0.78125 1.     ]\n",
      "[1.0, 1.0, 1.0]\n",
      "(400, 400, 247)\n",
      "(192, 147, 247)\n"
     ]
    },
    {
     "name": "stderr",
     "output_type": "stream",
     "text": [
      "\r",
      " 67%|████████████████████████████▊              | 55/82 [08:06<04:11,  9.32s/it]"
     ]
    },
    {
     "name": "stdout",
     "output_type": "stream",
     "text": [
      "[512 512 310]\n",
      "[400, 400, 310]\n",
      "[0.78125 0.78125 1.     ]\n",
      "[1.0, 1.0, 1.0]\n",
      "(400, 400, 310)\n",
      "(178, 145, 310)\n"
     ]
    },
    {
     "name": "stderr",
     "output_type": "stream",
     "text": [
      "\r",
      " 68%|█████████████████████████████▎             | 56/82 [08:17<04:16,  9.86s/it]"
     ]
    },
    {
     "name": "stdout",
     "output_type": "stream",
     "text": [
      "[512 512 310]\n",
      "[360, 360, 310]\n",
      "[0.703125 0.703125 1.      ]\n",
      "[1.0, 1.0, 1.0]\n",
      "(360, 360, 310)\n",
      "(175, 146, 310)\n"
     ]
    },
    {
     "name": "stderr",
     "output_type": "stream",
     "text": [
      "\r",
      " 70%|█████████████████████████████▉             | 57/82 [08:27<04:10, 10.01s/it]"
     ]
    },
    {
     "name": "stdout",
     "output_type": "stream",
     "text": [
      "[512 512 193]\n",
      "[350, 350, 193]\n",
      "[0.68359375 0.68359375 1.        ]\n",
      "[1.0, 1.0, 1.0]\n",
      "(350, 350, 193)\n",
      "(166, 145, 193)\n"
     ]
    },
    {
     "name": "stderr",
     "output_type": "stream",
     "text": [
      "\r",
      " 71%|██████████████████████████████▍            | 58/82 [08:34<03:33,  8.88s/it]"
     ]
    },
    {
     "name": "stdout",
     "output_type": "stream",
     "text": [
      "[512 512 206]\n",
      "[480, 480, 206]\n",
      "[0.9375 0.9375 1.    ]\n",
      "[1.0, 1.0, 1.0]\n",
      "(480, 480, 206)\n",
      "(184, 146, 206)\n"
     ]
    },
    {
     "name": "stderr",
     "output_type": "stream",
     "text": [
      "\r",
      " 72%|██████████████████████████████▉            | 59/82 [08:42<03:20,  8.70s/it]"
     ]
    },
    {
     "name": "stdout",
     "output_type": "stream",
     "text": [
      "[512 512 223]\n",
      "[480, 480, 223]\n",
      "[0.9375 0.9375 1.    ]\n",
      "[1.0, 1.0, 1.0]\n",
      "(480, 480, 223)\n",
      "(216, 150, 223)\n"
     ]
    },
    {
     "name": "stderr",
     "output_type": "stream",
     "text": [
      "\r",
      " 73%|███████████████████████████████▍           | 60/82 [08:51<03:16,  8.93s/it]"
     ]
    },
    {
     "name": "stdout",
     "output_type": "stream",
     "text": [
      "[512 512 201]\n",
      "[480, 480, 201]\n",
      "[0.9375 0.9375 1.    ]\n",
      "[1.0, 1.0, 1.0]\n",
      "(480, 480, 201)\n",
      "(173, 146, 201)\n"
     ]
    },
    {
     "name": "stderr",
     "output_type": "stream",
     "text": [
      "\r",
      " 74%|███████████████████████████████▉           | 61/82 [09:00<03:03,  8.73s/it]"
     ]
    },
    {
     "name": "stdout",
     "output_type": "stream",
     "text": [
      "[512 512 194]\n",
      "[456, 456, 194]\n",
      "[0.890625 0.890625 1.      ]\n",
      "[1.0, 1.0, 1.0]\n",
      "(456, 456, 194)\n",
      "(167, 146, 194)\n"
     ]
    },
    {
     "name": "stderr",
     "output_type": "stream",
     "text": [
      "\r",
      " 76%|████████████████████████████████▌          | 62/82 [09:07<02:47,  8.38s/it]"
     ]
    },
    {
     "name": "stdout",
     "output_type": "stream",
     "text": [
      "[512 512 218]\n",
      "[439, 439, 218]\n",
      "[0.85799998 0.85799998 1.        ]\n",
      "[1.0, 1.0, 1.0]\n",
      "(439, 439, 218)\n",
      "(201, 145, 218)\n"
     ]
    },
    {
     "name": "stderr",
     "output_type": "stream",
     "text": [
      "\r",
      " 77%|█████████████████████████████████          | 63/82 [09:16<02:39,  8.39s/it]"
     ]
    },
    {
     "name": "stdout",
     "output_type": "stream",
     "text": [
      "[512 512 215]\n",
      "[500, 500, 215]\n",
      "[0.9765625 0.9765625 1.       ]\n",
      "[1.0, 1.0, 1.0]\n",
      "(500, 500, 215)\n",
      "(191, 146, 215)\n"
     ]
    },
    {
     "name": "stderr",
     "output_type": "stream",
     "text": [
      "\r",
      " 78%|█████████████████████████████████▌         | 64/82 [09:25<02:34,  8.58s/it]"
     ]
    },
    {
     "name": "stdout",
     "output_type": "stream",
     "text": [
      "[512 512 310]\n",
      "[400, 400, 310]\n",
      "[0.78125 0.78125 1.     ]\n",
      "[1.0, 1.0, 1.0]\n",
      "(400, 400, 310)\n",
      "(210, 145, 310)\n"
     ]
    },
    {
     "name": "stderr",
     "output_type": "stream",
     "text": [
      "\r",
      " 79%|██████████████████████████████████         | 65/82 [09:36<02:41,  9.48s/it]"
     ]
    },
    {
     "name": "stdout",
     "output_type": "stream",
     "text": [
      "[512 512 233]\n",
      "[440, 440, 233]\n",
      "[0.859375 0.859375 1.      ]\n",
      "[1.0, 1.0, 1.0]\n",
      "(440, 440, 233)\n",
      "(196, 145, 233)\n"
     ]
    },
    {
     "name": "stderr",
     "output_type": "stream",
     "text": [
      "\r",
      " 80%|██████████████████████████████████▌        | 66/82 [09:46<02:31,  9.48s/it]"
     ]
    },
    {
     "name": "stdout",
     "output_type": "stream",
     "text": [
      "[512 512 201]\n",
      "[400, 400, 201]\n",
      "[0.78125 0.78125 1.     ]\n",
      "[1.0, 1.0, 1.0]\n",
      "(400, 400, 201)\n",
      "(170, 145, 201)\n"
     ]
    },
    {
     "name": "stderr",
     "output_type": "stream",
     "text": [
      "\r",
      " 82%|███████████████████████████████████▏       | 67/82 [09:53<02:11,  8.76s/it]"
     ]
    },
    {
     "name": "stdout",
     "output_type": "stream",
     "text": [
      "[512 512 210]\n",
      "[460, 460, 210]\n",
      "[0.8984375 0.8984375 1.       ]\n",
      "[1.0, 1.0, 1.0]\n",
      "(460, 460, 210)\n",
      "(188, 146, 210)\n"
     ]
    },
    {
     "name": "stderr",
     "output_type": "stream",
     "text": [
      "\r",
      " 83%|███████████████████████████████████▋       | 68/82 [10:01<02:00,  8.58s/it]"
     ]
    },
    {
     "name": "stdout",
     "output_type": "stream",
     "text": [
      "[512 512 310]\n",
      "[360, 360, 310]\n",
      "[0.703125 0.703125 1.      ]\n",
      "[1.0, 1.0, 1.0]\n",
      "(360, 360, 310)\n",
      "(183, 145, 310)\n"
     ]
    },
    {
     "name": "stderr",
     "output_type": "stream",
     "text": [
      "\r",
      " 84%|████████████████████████████████████▏      | 69/82 [10:12<02:00,  9.25s/it]"
     ]
    },
    {
     "name": "stdout",
     "output_type": "stream",
     "text": [
      "[512 512 205]\n",
      "[420, 420, 205]\n",
      "[0.8203125 0.8203125 1.       ]\n",
      "[1.0, 1.0, 1.0]\n",
      "(420, 420, 205)\n",
      "(200, 145, 205)\n"
     ]
    },
    {
     "name": "stderr",
     "output_type": "stream",
     "text": [
      "\r",
      " 85%|████████████████████████████████████▋      | 70/82 [10:19<01:45,  8.79s/it]"
     ]
    },
    {
     "name": "stdout",
     "output_type": "stream",
     "text": [
      "[512 512 209]\n",
      "[400, 400, 209]\n",
      "[0.78125 0.78125 1.     ]\n",
      "[1.0, 1.0, 1.0]\n",
      "(400, 400, 209)\n",
      "(184, 145, 209)\n"
     ]
    },
    {
     "name": "stderr",
     "output_type": "stream",
     "text": [
      "\r",
      " 87%|█████████████████████████████████████▏     | 71/82 [10:27<01:33,  8.46s/it]"
     ]
    },
    {
     "name": "stdout",
     "output_type": "stream",
     "text": [
      "[512 512 205]\n",
      "[400, 400, 205]\n",
      "[0.78200001 0.78200001 1.        ]\n",
      "[1.0, 1.0, 1.0]\n",
      "(400, 400, 205)\n",
      "(188, 145, 205)\n"
     ]
    },
    {
     "name": "stderr",
     "output_type": "stream",
     "text": [
      "\r",
      " 88%|█████████████████████████████████████▊     | 72/82 [10:35<01:21,  8.15s/it]"
     ]
    },
    {
     "name": "stdout",
     "output_type": "stream",
     "text": [
      "[512 512 223]\n",
      "[500, 500, 223]\n",
      "[0.9765625 0.9765625 1.       ]\n",
      "[1.0, 1.0, 1.0]\n",
      "(500, 500, 223)\n",
      "(202, 146, 223)\n"
     ]
    },
    {
     "name": "stderr",
     "output_type": "stream",
     "text": [
      "\r",
      " 89%|██████████████████████████████████████▎    | 73/82 [10:44<01:17,  8.58s/it]"
     ]
    },
    {
     "name": "stdout",
     "output_type": "stream",
     "text": [
      "[512 512 216]\n",
      "[480, 480, 216]\n",
      "[0.9375 0.9375 1.    ]\n",
      "[1.0, 1.0, 1.0]\n",
      "(480, 480, 216)\n",
      "(215, 146, 216)\n"
     ]
    },
    {
     "name": "stderr",
     "output_type": "stream",
     "text": [
      "\r",
      " 90%|██████████████████████████████████████▊    | 74/82 [10:53<01:09,  8.64s/it]"
     ]
    },
    {
     "name": "stdout",
     "output_type": "stream",
     "text": [
      "[512 512 224]\n",
      "[460, 460, 224]\n",
      "[0.8984375 0.8984375 1.       ]\n",
      "[1.0, 1.0, 1.0]\n",
      "(460, 460, 224)\n",
      "(198, 146, 224)\n"
     ]
    },
    {
     "name": "stderr",
     "output_type": "stream",
     "text": [
      "\r",
      " 91%|███████████████████████████████████████▎   | 75/82 [11:02<01:00,  8.65s/it]"
     ]
    },
    {
     "name": "stdout",
     "output_type": "stream",
     "text": [
      "[512 512 310]\n",
      "[400, 400, 216]\n",
      "[0.78125    0.78125    0.69999999]\n",
      "[1.0, 1.0, 1.0]\n",
      "(400, 400, 216)\n",
      "(176, 145, 216)\n"
     ]
    },
    {
     "name": "stderr",
     "output_type": "stream",
     "text": [
      "\r",
      " 93%|███████████████████████████████████████▊   | 76/82 [11:11<00:53,  8.90s/it]"
     ]
    },
    {
     "name": "stdout",
     "output_type": "stream",
     "text": [
      "[512 512 310]\n",
      "[440, 440, 310]\n",
      "[0.859375 0.859375 1.      ]\n",
      "[1.0, 1.0, 1.0]\n",
      "(440, 440, 310)\n",
      "(192, 145, 310)\n"
     ]
    },
    {
     "name": "stderr",
     "output_type": "stream",
     "text": [
      "\r",
      " 94%|████████████████████████████████████████▍  | 77/82 [11:23<00:49,  9.90s/it]"
     ]
    },
    {
     "name": "stdout",
     "output_type": "stream",
     "text": [
      "[512 512 206]\n",
      "[500, 500, 206]\n",
      "[0.9765625 0.9765625 1.       ]\n",
      "[1.0, 1.0, 1.0]\n",
      "(500, 500, 206)\n",
      "(210, 145, 206)\n"
     ]
    },
    {
     "name": "stderr",
     "output_type": "stream",
     "text": [
      "\r",
      " 95%|████████████████████████████████████████▉  | 78/82 [11:32<00:37,  9.48s/it]"
     ]
    },
    {
     "name": "stdout",
     "output_type": "stream",
     "text": [
      "[512 512 233]\n",
      "[500, 500, 233]\n",
      "[0.9765625 0.9765625 1.       ]\n",
      "[1.0, 1.0, 1.0]\n",
      "(500, 500, 233)\n",
      "(187, 146, 233)\n"
     ]
    }
   ],
   "source": [
    "import numpy as np\n",
    "from glob import glob\n",
    "from tqdm import tqdm\n",
    "import h5py\n",
    "import nrrd\n",
    "import nibabel as nib\n",
    "import pandas as pd\n",
    "import xlrd\n",
    "import pdb\n",
    "import SimpleITK as sitk\n",
    "from skimage import transform, measure\n",
    "import os\n",
    "import pydicom\n",
    "import matplotlib.pyplot as plt\n",
    "%matplotlib inline\n",
    "output_size =[96,96,96]\n",
    "def ImageResample(sitk_image, new_spacing = [1,1,1], is_label = False):\n",
    "    '''\n",
    "    sitk_image:\n",
    "    new_spacing: x,y,z\n",
    "    is_label: if True, using Interpolator `sitk.sitkNearestNeighbor`\n",
    "    '''\n",
    "    size = np.array(sitk_image.GetSize())\n",
    "    spacing = np.array(sitk_image.GetSpacing())\n",
    "    new_spacing = np.array(new_spacing)\n",
    "    new_size = size * spacing / new_spacing\n",
    "    new_spacing_refine = size * spacing / new_size\n",
    "    new_spacing_refine = [float(s) for s in new_spacing_refine]\n",
    "    new_size = [int(s) for s in new_size]\n",
    "    if not is_label:\n",
    "        print(size)\n",
    "        print(new_size)\n",
    "        print(spacing)\n",
    "        print(new_spacing_refine)\n",
    "    resample = sitk.ResampleImageFilter()\n",
    "    resample.SetOutputDirection(sitk_image.GetDirection())\n",
    "    resample.SetOutputOrigin(sitk_image.GetOrigin())\n",
    "    resample.SetSize(new_size)\n",
    "    resample.SetOutputSpacing(new_spacing_refine)\n",
    "\n",
    "    if is_label:\n",
    "        resample.SetInterpolator(sitk.sitkNearestNeighbor)\n",
    "    else:\n",
    "        resample.SetInterpolator(sitk.sitkBSpline)\n",
    "    newimage = resample.Execute(sitk_image)\n",
    "    return newimage\n",
    "\n",
    "def set_window_wl_ww(tensor):\n",
    "    sl_window = [75,400]\n",
    "    [wl,ww] = sl_window\n",
    "    w_min, w_max = wl - ww//2, wl + ww//2\n",
    "    tensor[tensor < w_min] = w_min\n",
    "    tensor[tensor > w_max] = w_max\n",
    "    tensor = (tensor - w_min) / (w_max - w_min)\n",
    "    ### min max Normalization\n",
    "    return tensor\n",
    "\n",
    "def crop_roi(image, label):\n",
    "    assert(image.shape == label.shape)\n",
    "    print (image.shape)\n",
    "    ### crop based on lung segmentation\n",
    "    w, h, d = label.shape\n",
    "\n",
    "    tempL = np.nonzero(label)\n",
    "    minx, maxx = np.min(tempL[0]), np.max(tempL[0])\n",
    "    miny, maxy = np.min(tempL[1]), np.max(tempL[1])\n",
    "\n",
    "    px = max(output_size[0] - (maxx - minx), 0) // 2\n",
    "    py = max(output_size[1] - (maxy - miny), 0) // 2\n",
    "    minx = max(minx - px - 25, 0) #np.random.randint(5, 10)\n",
    "    maxx = min(maxx + px + 25, w) #np.random.randint(5, 10)\n",
    "    miny = max(miny - py - 25, 0)\n",
    "    maxy = min(maxy + py + 25, h)\n",
    "    \n",
    "    image = image[minx:maxx, miny:maxy,:].astype(np.float32)\n",
    "    label = label[minx:maxx, miny:maxy,:].astype(np.float32)\n",
    "    return image, label\n",
    "\n",
    "listt = glob('./Pancreas/image/*')\n",
    "\n",
    "for item in tqdm(listt):\n",
    "    name_image = str(item)\n",
    "    name_label = name_image.replace('image', 'label')\n",
    "#     pdb.set_trace\n",
    "    itk_img = sitk.ReadImage(name_image)\n",
    "#     origin =itk_img.GetOrigin()\n",
    "#     direction = itk_img.GetDirection()\n",
    "#     space = itk_img.GetSpacing()\n",
    "    itk_img = ImageResample(itk_img)\n",
    "    image = sitk.GetArrayFromImage(itk_img)\n",
    "    image = np.transpose(image, (2,1,0))\n",
    "    \n",
    "    itk_label = sitk.ReadImage(name_label)\n",
    "    itk_label = ImageResample(itk_label, is_label = True)\n",
    "    label = sitk.GetArrayFromImage(itk_label)\n",
    "    label = np.transpose(label, (2,1,0))\n",
    "\n",
    "    assert(np.max(label) == 1 and np.min(label) == 0)\n",
    "    assert(np.unique(label).shape[0] == 2)\n",
    "    assert(np.shape(label)==np.shape(image))\n",
    "    image = set_window_wl_ww(image)\n",
    "#     print(image.shape)\n",
    "#     plt.figure(figsize=(10, 10))\n",
    "#     plt.title('CT Slice_enhanced_100')\n",
    "#     plt.imshow(image[:,:,100],cmap='gray')\n",
    "#     plt.show()\n",
    "    image, label = crop_roi(image, label)\n",
    "    image = (image - np.mean(image)) / np.std(image)\n",
    "    print(image.shape)\n",
    "    f = h5py.File(('./Pancreas_h5/image'+name_image[22:26] + '_norm.h5'), 'w')\n",
    "    f.create_dataset('image', data=image, compression=\"gzip\")\n",
    "    f.create_dataset('label', data=label, compression=\"gzip\")\n",
    "    f.close()"
   ]
  },
  {
   "cell_type": "code",
   "execution_count": null,
   "metadata": {},
   "outputs": [],
   "source": []
  }
 ],
 "metadata": {
  "kernelspec": {
   "display_name": "Python 3 (ipykernel)",
   "language": "python",
   "name": "python3"
  },
  "language_info": {
   "codemirror_mode": {
    "name": "ipython",
    "version": 3
   },
   "file_extension": ".py",
   "mimetype": "text/x-python",
   "name": "python",
   "nbconvert_exporter": "python",
   "pygments_lexer": "ipython3",
   "version": "3.8.10"
  },
  "toc": {
   "base_numbering": 1,
   "nav_menu": {},
   "number_sections": true,
   "sideBar": true,
   "skip_h1_title": false,
   "title_cell": "Table of Contents",
   "title_sidebar": "Contents",
   "toc_cell": false,
   "toc_position": {},
   "toc_section_display": true,
   "toc_window_display": false
  },
  "varInspector": {
   "cols": {
    "lenName": 16,
    "lenType": 16,
    "lenVar": 40
   },
   "kernels_config": {
    "python": {
     "delete_cmd_postfix": "",
     "delete_cmd_prefix": "del ",
     "library": "var_list.py",
     "varRefreshCmd": "print(var_dic_list())"
    },
    "r": {
     "delete_cmd_postfix": ") ",
     "delete_cmd_prefix": "rm(",
     "library": "var_list.r",
     "varRefreshCmd": "cat(var_dic_list()) "
    }
   },
   "types_to_exclude": [
    "module",
    "function",
    "builtin_function_or_method",
    "instance",
    "_Feature"
   ],
   "window_display": false
  }
 },
 "nbformat": 4,
 "nbformat_minor": 4
}
